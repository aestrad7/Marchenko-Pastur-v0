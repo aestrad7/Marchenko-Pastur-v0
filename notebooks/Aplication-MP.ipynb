{
 "cells": [
  {
   "cell_type": "markdown",
   "metadata": {},
   "source": [
    "# Exploración del Teorema de Marchenko-Pastur para Mejorar la Capacidad Predictiva mediante la Limpieza de la Matriz de Covarianza\n",
    "\n",
    "## Objetivos\n",
    "\n",
    "1. **Introducción al Teorema de Marchenko-Pastur**:\n",
    "   - Explicar brevemente el teorema y su relevancia en la teoría de matrices aleatorias.\n",
    "   - Describir cómo este teorema se puede aplicar en la limpieza de la matriz de covarianza.\n",
    "\n",
    "2. **Implementación de la Limpieza de la Matriz de Covarianza**:\n",
    "   - Mostrar el proceso de cálculo de la matriz de covarianza de un conjunto de datos.\n",
    "   - Aplicar el teorema de Marchenko-Pastur para identificar y eliminar el ruido en la matriz de covarianza.\n",
    "\n",
    "3. **Evaluación del Impacto en la Capacidad Predictiva del Modelo**:\n",
    "   - Comparar la capacidad predictiva de un modelo antes y después de la limpieza de la matriz de covarianza.\n",
    "   - Medir la mejora en el desempeño del modelo utilizando métricas clave como precisión, recall, o área bajo la curva (AUC).\n",
    "\n",
    "4. **Conclusiones y Recomendaciones**:\n",
    "   - Resumir los hallazgos obtenidos a partir de la implementación del teorema de Marchenko-Pastur.\n",
    "   - Sugerir aplicaciones prácticas y futuras direcciones para la mejora de modelos predictivos utilizando este enfoque.\n"
   ]
  },
  {
   "cell_type": "code",
   "execution_count": 1,
   "metadata": {},
   "outputs": [],
   "source": [
    "import pandas as pd"
   ]
  },
  {
   "cell_type": "code",
   "execution_count": 2,
   "metadata": {},
   "outputs": [
    {
     "data": {
      "text/html": [
       "<div>\n",
       "<style scoped>\n",
       "    .dataframe tbody tr th:only-of-type {\n",
       "        vertical-align: middle;\n",
       "    }\n",
       "\n",
       "    .dataframe tbody tr th {\n",
       "        vertical-align: top;\n",
       "    }\n",
       "\n",
       "    .dataframe thead th {\n",
       "        text-align: right;\n",
       "    }\n",
       "</style>\n",
       "<table border=\"1\" class=\"dataframe\">\n",
       "  <thead>\n",
       "    <tr style=\"text-align: right;\">\n",
       "      <th></th>\n",
       "      <th>id</th>\n",
       "      <th>area</th>\n",
       "      <th>bathrooms</th>\n",
       "      <th>bedrooms</th>\n",
       "      <th>condo_fee</th>\n",
       "      <th>parking_spots</th>\n",
       "      <th>attached_rooms</th>\n",
       "      <th>type</th>\n",
       "      <th>lat</th>\n",
       "      <th>lon</th>\n",
       "      <th>year_built</th>\n",
       "      <th>overall_condition</th>\n",
       "      <th>has_elevator</th>\n",
       "      <th>leasures_available</th>\n",
       "      <th>price</th>\n",
       "    </tr>\n",
       "  </thead>\n",
       "  <tbody>\n",
       "    <tr>\n",
       "      <th>914</th>\n",
       "      <td>461</td>\n",
       "      <td>54</td>\n",
       "      <td>2.0</td>\n",
       "      <td>2.0</td>\n",
       "      <td>230.0</td>\n",
       "      <td>1.0</td>\n",
       "      <td>1.0</td>\n",
       "      <td>apartment</td>\n",
       "      <td>-5.882136</td>\n",
       "      <td>-35.172217</td>\n",
       "      <td>NaN</td>\n",
       "      <td>Score 2</td>\n",
       "      <td>yes</td>\n",
       "      <td>playground</td>\n",
       "      <td>215000</td>\n",
       "    </tr>\n",
       "    <tr>\n",
       "      <th>3121</th>\n",
       "      <td>4377</td>\n",
       "      <td>86</td>\n",
       "      <td>1.0</td>\n",
       "      <td>3.0</td>\n",
       "      <td>450.0</td>\n",
       "      <td>2.0</td>\n",
       "      <td>1.0</td>\n",
       "      <td>apartment</td>\n",
       "      <td>-5.822694</td>\n",
       "      <td>-35.212640</td>\n",
       "      <td>NaN</td>\n",
       "      <td>Score 5</td>\n",
       "      <td>y</td>\n",
       "      <td>POOL,barbecue space,PLAYGROUND,sports court</td>\n",
       "      <td>450000</td>\n",
       "    </tr>\n",
       "    <tr>\n",
       "      <th>1900</th>\n",
       "      <td>2837</td>\n",
       "      <td>144</td>\n",
       "      <td>5.0</td>\n",
       "      <td>3.0</td>\n",
       "      <td>909.0</td>\n",
       "      <td>3.0</td>\n",
       "      <td>3.0</td>\n",
       "      <td>apartment</td>\n",
       "      <td>-5.801043</td>\n",
       "      <td>-35.204203</td>\n",
       "      <td>NaN</td>\n",
       "      <td>Score 5</td>\n",
       "      <td>y</td>\n",
       "      <td>NaN</td>\n",
       "      <td>800000</td>\n",
       "    </tr>\n",
       "    <tr>\n",
       "      <th>3070</th>\n",
       "      <td>377</td>\n",
       "      <td>98</td>\n",
       "      <td>3.0</td>\n",
       "      <td>3.0</td>\n",
       "      <td>728.0</td>\n",
       "      <td>2.0</td>\n",
       "      <td>1.0</td>\n",
       "      <td>apartment</td>\n",
       "      <td>-5.794185</td>\n",
       "      <td>-35.206400</td>\n",
       "      <td>1996.0</td>\n",
       "      <td>Score 6</td>\n",
       "      <td>no</td>\n",
       "      <td>pool,playground</td>\n",
       "      <td>510000</td>\n",
       "    </tr>\n",
       "    <tr>\n",
       "      <th>572</th>\n",
       "      <td>828</td>\n",
       "      <td>360</td>\n",
       "      <td>3.0</td>\n",
       "      <td>3.0</td>\n",
       "      <td>0.0</td>\n",
       "      <td>3.0</td>\n",
       "      <td>3.0</td>\n",
       "      <td>house</td>\n",
       "      <td>-5.882136</td>\n",
       "      <td>-35.172217</td>\n",
       "      <td>1969.0</td>\n",
       "      <td>Score 5</td>\n",
       "      <td>yes</td>\n",
       "      <td>NaN</td>\n",
       "      <td>480000</td>\n",
       "    </tr>\n",
       "  </tbody>\n",
       "</table>\n",
       "</div>"
      ],
      "text/plain": [
       "        id  area  bathrooms  bedrooms  condo_fee  parking_spots  \\\n",
       "914    461    54        2.0       2.0      230.0            1.0   \n",
       "3121  4377    86        1.0       3.0      450.0            2.0   \n",
       "1900  2837   144        5.0       3.0      909.0            3.0   \n",
       "3070   377    98        3.0       3.0      728.0            2.0   \n",
       "572    828   360        3.0       3.0        0.0            3.0   \n",
       "\n",
       "      attached_rooms       type       lat        lon  year_built  \\\n",
       "914              1.0  apartment -5.882136 -35.172217         NaN   \n",
       "3121             1.0  apartment -5.822694 -35.212640         NaN   \n",
       "1900             3.0  apartment -5.801043 -35.204203         NaN   \n",
       "3070             1.0  apartment -5.794185 -35.206400      1996.0   \n",
       "572              3.0      house -5.882136 -35.172217      1969.0   \n",
       "\n",
       "     overall_condition has_elevator  \\\n",
       "914            Score 2          yes   \n",
       "3121           Score 5            y   \n",
       "1900           Score 5            y   \n",
       "3070           Score 6           no   \n",
       "572            Score 5          yes   \n",
       "\n",
       "                               leasures_available   price  \n",
       "914                                    playground  215000  \n",
       "3121  POOL,barbecue space,PLAYGROUND,sports court  450000  \n",
       "1900                                          NaN  800000  \n",
       "3070                              pool,playground  510000  \n",
       "572                                           NaN  480000  "
      ]
     },
     "metadata": {},
     "output_type": "display_data"
    },
    {
     "name": "stdout",
     "output_type": "stream",
     "text": [
      "<class 'pandas.core.frame.DataFrame'>\n",
      "Index: 3245 entries, 914 to 1623\n",
      "Data columns (total 15 columns):\n",
      " #   Column              Non-Null Count  Dtype  \n",
      "---  ------              --------------  -----  \n",
      " 0   id                  3245 non-null   int64  \n",
      " 1   area                3245 non-null   int64  \n",
      " 2   bathrooms           3227 non-null   float64\n",
      " 3   bedrooms            3221 non-null   float64\n",
      " 4   condo_fee           3233 non-null   float64\n",
      " 5   parking_spots       3235 non-null   float64\n",
      " 6   attached_rooms      3234 non-null   float64\n",
      " 7   type                3235 non-null   object \n",
      " 8   lat                 3234 non-null   float64\n",
      " 9   lon                 3231 non-null   float64\n",
      " 10  year_built          2022 non-null   float64\n",
      " 11  overall_condition   3245 non-null   object \n",
      " 12  has_elevator        3245 non-null   object \n",
      " 13  leasures_available  2061 non-null   object \n",
      " 14  price               3245 non-null   int64  \n",
      "dtypes: float64(8), int64(3), object(4)\n",
      "memory usage: 405.6+ KB\n",
      "None\n",
      "(3245, 15)\n"
     ]
    }
   ],
   "source": [
    "# Load train and test data from CSV files\n",
    "df = pd.read_csv('../data/train.csv')\n",
    "\n",
    "# Split the data into train and test data\n",
    "train_data = df.sample(frac=0.8, random_state=0)\n",
    "test_data = df.drop(train_data.index)\n",
    "\n",
    "# Display the first few rows of the train data\n",
    "display(train_data.head())\n",
    "print(train_data.info())\n",
    "print(train_data.shape)"
   ]
  },
  {
   "cell_type": "code",
   "execution_count": 19,
   "metadata": {},
   "outputs": [
    {
     "name": "stdout",
     "output_type": "stream",
     "text": [
      "<class 'pandas.core.frame.DataFrame'>\n",
      "Index: 3245 entries, 914 to 1623\n",
      "Data columns (total 7 columns):\n",
      " #   Column          Non-Null Count  Dtype  \n",
      "---  ------          --------------  -----  \n",
      " 0   area            3245 non-null   int64  \n",
      " 1   bathrooms       3227 non-null   float64\n",
      " 2   bedrooms        3221 non-null   float64\n",
      " 3   condo_fee       3233 non-null   float64\n",
      " 4   parking_spots   3235 non-null   float64\n",
      " 5   attached_rooms  3234 non-null   float64\n",
      " 6   price           3245 non-null   int64  \n",
      "dtypes: float64(5), int64(2)\n",
      "memory usage: 331.9 KB\n",
      "None\n"
     ]
    }
   ],
   "source": [
    "# Display the first few rows of the train data numeric columns\n",
    "train_data_n = train_data.select_dtypes(exclude=['object']).drop(columns=['year_built', 'id', 'lon', 'lat'])\n",
    "test_data_n = test_data.select_dtypes(exclude=['object']).drop(columns=['year_built', 'id', 'lon', 'lat'])\n",
    "print(train_data_n.info())"
   ]
  },
  {
   "cell_type": "code",
   "execution_count": 20,
   "metadata": {},
   "outputs": [],
   "source": [
    "# Fill missing values with the mean of the column\n",
    "def fill_null_with_mean(df):\n",
    "    numeric_cols = df.select_dtypes(include=['float64', 'int64']).columns\n",
    "    df[numeric_cols] = df[numeric_cols].fillna(df[numeric_cols].mean())\n",
    "    return df\n",
    "\n",
    "train_data_n = fill_null_with_mean(train_data_n)\n",
    "test_data_n = fill_null_with_mean(test_data_n)"
   ]
  },
  {
   "cell_type": "code",
   "execution_count": 21,
   "metadata": {},
   "outputs": [],
   "source": [
    "X_train = train_data_n.drop(columns=['price'])\n",
    "y_train = train_data_n['price']\n",
    "\n",
    "X_test = test_data_n.drop(columns=['price'])\n",
    "y_test = test_data_n['price']"
   ]
  },
  {
   "cell_type": "code",
   "execution_count": 22,
   "metadata": {},
   "outputs": [],
   "source": [
    "# Estandariza los datos\n",
    "from sklearn.preprocessing import StandardScaler\n",
    "\n",
    "scaler = StandardScaler()\n",
    "X_train_st = scaler.fit_transform(X_train)\n",
    "X_test_st = scaler.transform(X_test)"
   ]
  },
  {
   "cell_type": "code",
   "execution_count": 23,
   "metadata": {},
   "outputs": [
    {
     "data": {
      "image/png": "[encoded data removed]",
      "text/plain": [
       "<Figure size 1000x600 with 1 Axes>"
      ]
     },
     "metadata": {},
     "output_type": "display_data"
    }
   ],
   "source": [
    "import seaborn as sns\n",
    "\n",
    "import matplotlib.pyplot as plt\n",
    "\n",
    "# Configurar el estilo del gráfico\n",
    "sns.set(style=\"whitegrid\")\n",
    "\n",
    "# Calcular la correlación de las características con el objetivo\n",
    "correlation = X_train.corrwith(y_train)\n",
    "\n",
    "# Crear una figura y ejes para el gráfico\n",
    "fig, ax = plt.subplots(figsize=(10, 6))\n",
    "\n",
    "# Crear el gráfico de barras horizontal\n",
    "sns.barplot(x=correlation.values, y=correlation.index, orient='h', ax=ax)\n",
    "\n",
    "# Personalizar el gráfico\n",
    "ax.set_title('Correlación de las características con el objetivo')\n",
    "ax.set_xlabel('Correlación')\n",
    "ax.set_ylabel('Características')\n",
    "ax.spines['top'].set_visible(False)\n",
    "ax.spines['right'].set_visible(False)\n",
    "\n",
    "# Mostrar el gráfico\n",
    "plt.show()\n"
   ]
  },
  {
   "cell_type": "code",
   "execution_count": 24,
   "metadata": {},
   "outputs": [
    {
     "name": "stdout",
     "output_type": "stream",
     "text": [
      "Error cuadrático medio: 23494338345.89\n",
      "Coeficiente de determinación: 0.58\n"
     ]
    }
   ],
   "source": [
    "from sklearn.linear_model import LinearRegression\n",
    "from sklearn.metrics import mean_squared_error\n",
    "from sklearn.metrics import r2_score\n",
    "\n",
    "# Crear un modelo de regresión lineal\n",
    "model_raw = LinearRegression()\n",
    "\n",
    "# Ajustar el modelo a los datos de entrenamiento\n",
    "model_raw.fit(X_train, y_train)\n",
    "\n",
    "# Predecir los precios de las viviendas en el conjunto de prueba\n",
    "y_pred_raw = model_raw.predict(X_test)\n",
    "\n",
    "# Calcular el error cuadrático medio\n",
    "mse_raw = mean_squared_error(y_test, y_pred_raw)\n",
    "print(f'Error cuadrático medio: {mse_raw:.2f}')\n",
    "\n",
    "# Calcular el coeficiente de determinación\n",
    "r2_raw = r2_score(y_test, y_pred_raw)\n",
    "print(f'Coeficiente de determinación: {r2_raw:.2f}')"
   ]
  },
  {
   "cell_type": "code",
   "execution_count": 25,
   "metadata": {},
   "outputs": [
    {
     "ename": "SyntaxError",
     "evalue": "invalid character '´' (U+00B4) (183020202.py, line 1)",
     "output_type": "error",
     "traceback": [
      "\u001b[1;36m  Cell \u001b[1;32mIn[25], line 1\u001b[1;36m\u001b[0m\n\u001b[1;33m    23´088,066.957\u001b[0m\n\u001b[1;37m      ^\u001b[0m\n\u001b[1;31mSyntaxError\u001b[0m\u001b[1;31m:\u001b[0m invalid character '´' (U+00B4)\n"
     ]
    }
   ],
   "source": [
    "23´088,066.957\n",
    "\n",
    "26´770,119.191\n"
   ]
  },
  {
   "cell_type": "code",
   "execution_count": 26,
   "metadata": {},
   "outputs": [
    {
     "name": "stdout",
     "output_type": "stream",
     "text": [
      "[0.22351693 0.38797088 0.47634781 0.89067592 1.08663736 2.93670066]\n"
     ]
    }
   ],
   "source": [
    "import numpy as np\n",
    "\n",
    "covariance_matrix = np.cov(X_train_st, rowvar=False)\n",
    "\n",
    "eigenvalues, eigenvectors = np.linalg.eigh(covariance_matrix)\n",
    "print(eigenvalues)"
   ]
  },
  {
   "cell_type": "code",
   "execution_count": 27,
   "metadata": {},
   "outputs": [],
   "source": [
    "# Calcula gamma\n",
    "p = X_train_st.shape[1]  # número de variables (columnas)\n",
    "n = X_train_st.shape[0]  # número de observaciones (filas)\n",
    "gamma = p / n"
   ]
  },
  {
   "cell_type": "code",
   "execution_count": 28,
   "metadata": {},
   "outputs": [],
   "source": [
    "# Calcula el umbral de Marchenko-Pastur\n",
    "lambda_max = (1 + np.sqrt(gamma))**2"
   ]
  },
  {
   "cell_type": "code",
   "execution_count": 29,
   "metadata": {},
   "outputs": [],
   "source": [
    "# Identifica los índices significativos\n",
    "significant_indices = np.where(eigenvalues > lambda_max)[0]\n",
    "\n",
    "base = eigenvectors[:, significant_indices]  # vectores propios seleccionados\n",
    "\n",
    "# Proyecta los datos en el nuevo espacio\n",
    "filtered_data = np.dot(np.dot(X_train_st, base), base.T)\n",
    "\n",
    "filtered_data_test = np.dot(np.dot(X_test_st, base), base.T)"
   ]
  },
  {
   "cell_type": "code",
   "execution_count": 30,
   "metadata": {},
   "outputs": [
    {
     "data": {
      "text/plain": [
       "array([5])"
      ]
     },
     "execution_count": 30,
     "metadata": {},
     "output_type": "execute_result"
    }
   ],
   "source": [
    "significant_indices"
   ]
  },
  {
   "cell_type": "code",
   "execution_count": 31,
   "metadata": {},
   "outputs": [],
   "source": [
    "# filtered_data_original_scale = scaler.inverse_transform(filtered_data)"
   ]
  },
  {
   "cell_type": "code",
   "execution_count": 32,
   "metadata": {},
   "outputs": [
    {
     "name": "stdout",
     "output_type": "stream",
     "text": [
      "Error cuadrático medio: 26726313048.74\n",
      "Coeficiente de determinación: 0.52\n"
     ]
    }
   ],
   "source": [
    "model_filtered = LinearRegression()\n",
    "model_filtered.fit(filtered_data, y_train)\n",
    "\n",
    "# Predecir los precios de las viviendas en el conjunto de prueba\n",
    "y_pred_filtered = model_filtered.predict(filtered_data_test)\n",
    "\n",
    "# Calcular el error cuadrático medio\n",
    "mse_raw = mean_squared_error(y_test, y_pred_filtered)\n",
    "print(f'Error cuadrático medio: {mse_raw:.2f}')\n",
    "\n",
    "# Calcular el coeficiente de determinación\n",
    "r2_raw = r2_score(y_test, y_pred_filtered)\n",
    "print(f'Coeficiente de determinación: {r2_raw:.2f}')"
   ]
  },
  {
   "cell_type": "code",
   "execution_count": 33,
   "metadata": {},
   "outputs": [
    {
     "data": {
      "text/html": [
       "<div>\n",
       "<style scoped>\n",
       "    .dataframe tbody tr th:only-of-type {\n",
       "        vertical-align: middle;\n",
       "    }\n",
       "\n",
       "    .dataframe tbody tr th {\n",
       "        vertical-align: top;\n",
       "    }\n",
       "\n",
       "    .dataframe thead th {\n",
       "        text-align: right;\n",
       "    }\n",
       "</style>\n",
       "<table border=\"1\" class=\"dataframe\">\n",
       "  <thead>\n",
       "    <tr style=\"text-align: right;\">\n",
       "      <th></th>\n",
       "      <th>area</th>\n",
       "      <th>bathrooms</th>\n",
       "      <th>bedrooms</th>\n",
       "      <th>condo_fee</th>\n",
       "      <th>parking_spots</th>\n",
       "      <th>attached_rooms</th>\n",
       "    </tr>\n",
       "  </thead>\n",
       "  <tbody>\n",
       "    <tr>\n",
       "      <th>0</th>\n",
       "      <td>-0.412670</td>\n",
       "      <td>-0.534927</td>\n",
       "      <td>-0.487081</td>\n",
       "      <td>-0.165546</td>\n",
       "      <td>-0.452119</td>\n",
       "      <td>-0.531969</td>\n",
       "    </tr>\n",
       "    <tr>\n",
       "      <th>1</th>\n",
       "      <td>-0.139293</td>\n",
       "      <td>-0.180560</td>\n",
       "      <td>-0.164410</td>\n",
       "      <td>-0.055879</td>\n",
       "      <td>-0.152609</td>\n",
       "      <td>-0.179562</td>\n",
       "    </tr>\n",
       "    <tr>\n",
       "      <th>2</th>\n",
       "      <td>1.094210</td>\n",
       "      <td>1.418379</td>\n",
       "      <td>1.291514</td>\n",
       "      <td>0.438951</td>\n",
       "      <td>1.198810</td>\n",
       "      <td>1.410534</td>\n",
       "    </tr>\n",
       "    <tr>\n",
       "      <th>3</th>\n",
       "      <td>0.212838</td>\n",
       "      <td>0.275893</td>\n",
       "      <td>0.251216</td>\n",
       "      <td>0.085382</td>\n",
       "      <td>0.233184</td>\n",
       "      <td>0.274367</td>\n",
       "    </tr>\n",
       "    <tr>\n",
       "      <th>4</th>\n",
       "      <td>0.957607</td>\n",
       "      <td>1.241306</td>\n",
       "      <td>1.130279</td>\n",
       "      <td>0.384151</td>\n",
       "      <td>1.049148</td>\n",
       "      <td>1.234440</td>\n",
       "    </tr>\n",
       "  </tbody>\n",
       "</table>\n",
       "</div>"
      ],
      "text/plain": [
       "       area  bathrooms  bedrooms  condo_fee  parking_spots  attached_rooms\n",
       "0 -0.412670  -0.534927 -0.487081  -0.165546      -0.452119       -0.531969\n",
       "1 -0.139293  -0.180560 -0.164410  -0.055879      -0.152609       -0.179562\n",
       "2  1.094210   1.418379  1.291514   0.438951       1.198810        1.410534\n",
       "3  0.212838   0.275893  0.251216   0.085382       0.233184        0.274367\n",
       "4  0.957607   1.241306  1.130279   0.384151       1.049148        1.234440"
      ]
     },
     "execution_count": 33,
     "metadata": {},
     "output_type": "execute_result"
    }
   ],
   "source": [
    "# convertir filtered_data en dataframe con columnas originales\n",
    "filtered_data_df = pd.DataFrame(filtered_data, columns=X_train.columns)\n",
    "filtered_data_df.head()"
   ]
  },
  {
   "cell_type": "code",
   "execution_count": 34,
   "metadata": {},
   "outputs": [
    {
     "data": {
      "image/png": "[encoded data removed]",
      "text/plain": [
       "<Figure size 1000x600 with 1 Axes>"
      ]
     },
     "metadata": {},
     "output_type": "display_data"
    }
   ],
   "source": [
    "import seaborn as sns\n",
    "\n",
    "import matplotlib.pyplot as plt\n",
    "\n",
    "# Configurar el estilo del gráfico\n",
    "sns.set(style=\"whitegrid\")\n",
    "\n",
    "# Calcular la correlación de las características con el objetivo\n",
    "correlation = filtered_data_df.corrwith(y_train)\n",
    "\n",
    "# Crear una figura y ejes para el gráfico\n",
    "fig, ax = plt.subplots(figsize=(10, 6))\n",
    "\n",
    "# Crear el gráfico de barras horizontal\n",
    "sns.barplot(x=correlation.values, y=correlation.index, orient='h', ax=ax)\n",
    "\n",
    "# Personalizar el gráfico\n",
    "ax.set_title('Correlación de las características con el objetivo')\n",
    "ax.set_xlabel('Correlación')\n",
    "ax.set_ylabel('Características')\n",
    "ax.spines['top'].set_visible(False)\n",
    "ax.spines['right'].set_visible(False)\n",
    "\n",
    "# Mostrar el gráfico\n",
    "plt.show()\n"
   ]
  },
  {
   "cell_type": "code",
   "execution_count": null,
   "metadata": {},
   "outputs": [],
   "source": [
    "### TODO: falta boostraping https://chatgpt.com/c/886369a2-d4a5-4570-a74f-9c4f02205c50"
   ]
  }
 ],
 "metadata": {
  "kernelspec": {
   "display_name": "marchenko-pastur-v0-P4v-IxXY-py3.12",
   "language": "python",
   "name": "python3"
  },
  "language_info": {
   "codemirror_mode": {
    "name": "ipython",
    "version": 3
   },
   "file_extension": ".py",
   "mimetype": "text/x-python",
   "name": "python",
   "nbconvert_exporter": "python",
   "pygments_lexer": "ipython3",
   "version": "3.12.4"
  }
 },
 "nbformat": 4,
 "nbformat_minor": 2
}
